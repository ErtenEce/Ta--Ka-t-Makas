{
 "cells": [
  {
   "cell_type": "code",
   "execution_count": null,
   "id": "d76b4944-b8e0-4e8b-97a2-4393b5128b1c",
   "metadata": {},
   "outputs": [],
   "source": [
    "# Aygaz Python Bootcamp Taş-Kağıt-Makas Projesi"
   ]
  },
  {
   "cell_type": "code",
   "execution_count": 1,
   "id": "e5acd2c0-068f-4004-88dd-90ecb05b3bd0",
   "metadata": {},
   "outputs": [
    {
     "name": "stdout",
     "output_type": "stream",
     "text": [
      "Muzan, Sun, Nezuko Oyununa Hoşgeldiniz!\n",
      "Kurallar: Muzan, Sun, Nezuko seçeneğinden birini seçin. Muzan Nezuko'yu şeytan yapar, Sun Muzan'ı yakar, Nezuko Sun'dan etkilenmez.\n"
     ]
    },
    {
     "name": "stdin",
     "output_type": "stream",
     "text": [
      "Muzan, Sun veya Nezuko seçin:  Sun\n"
     ]
    },
    {
     "name": "stdout",
     "output_type": "stream",
     "text": [
      "Bilgisayarın seçimi: muzan\n",
      "Bilgisayar kazandı!\n",
      "Skor: Siz 0 - 1 Bilgisayar\n"
     ]
    },
    {
     "name": "stdin",
     "output_type": "stream",
     "text": [
      "Muzan, Sun veya Nezuko seçin:  Nezuko\n"
     ]
    },
    {
     "name": "stdout",
     "output_type": "stream",
     "text": [
      "Bilgisayarın seçimi: nezuko\n",
      "Beraberlik!\n",
      "Skor: Siz 0 - 1 Bilgisayar\n"
     ]
    },
    {
     "name": "stdin",
     "output_type": "stream",
     "text": [
      "Muzan, Sun veya Nezuko seçin:  Muzan\n"
     ]
    },
    {
     "name": "stdout",
     "output_type": "stream",
     "text": [
      "Bilgisayarın seçimi: nezuko\n",
      "Bilgisayar kazandı!\n",
      "Skor: Siz 0 - 2 Bilgisayar\n",
      "Bilgisayar oyunu kazandı!\n"
     ]
    },
    {
     "name": "stdin",
     "output_type": "stream",
     "text": [
      "Başka bir oyun oynamak ister misiniz? (evet/hayır):  hayır\n"
     ]
    },
    {
     "name": "stdout",
     "output_type": "stream",
     "text": [
      "Oyun sona erdi. Sayounara!\n"
     ]
    }
   ],
   "source": [
    "import random\n",
    "\n",
    "def tas_kagit_makas_ECE_ERTEN():\n",
    "    print(\"Muzan, Sun, Nezuko Oyununa Hoşgeldiniz!\")\n",
    "    print(\"Kurallar: Muzan, Sun, Nezuko seçeneğinden birini seçin. Muzan Nezuko'yu şeytan yapar, Sun Muzan'ı yakar, Nezuko Sun'dan etkilenmez.\")\n",
    "    \n",
    "    secenekler = [\"muzan\", \"sun\", \"nezuko\"]\n",
    "    \n",
    "    def turu_oyna():\n",
    "        oyuncu_puan = 0\n",
    "        bilgisayar_puan = 0\n",
    "        \n",
    "        while oyuncu_puan < 2 and bilgisayar_puan < 2:\n",
    "            oyuncu_secimi = input(\"Muzan, Sun veya Nezuko seçin: \").lower()\n",
    "            while oyuncu_secimi not in secenekler:\n",
    "                oyuncu_secimi = input(\"Geçersiz seçenek. Muzan, Sun veya Nezuko seçin: \").lower()\n",
    "            \n",
    "            bilgisayar_secimi = random.choice(secenekler)\n",
    "            print(f\"Bilgisayarın seçimi: {bilgisayar_secimi}\")\n",
    "\n",
    "            if oyuncu_secimi == bilgisayar_secimi:\n",
    "                print(\"Beraberlik!\")\n",
    "            elif (oyuncu_secimi == \"Muzan\" and bilgisayar_secimi == \"Nezuko\") or \\\n",
    "                 (oyuncu_secimi == \"Sun\" and bilgisayar_secimi == \"Muzan\") or \\\n",
    "                 (oyuncu_secimi == \"Nezuko\" and bilgisayar_secimi == \"Sun\"):\n",
    "                print(\"Kazandınız!\")\n",
    "                oyuncu_puan += 1\n",
    "            else:\n",
    "                print(\"Bilgisayar kazandı!\")\n",
    "                bilgisayar_puan += 1\n",
    "            \n",
    "            print(f\"Skor: Siz {oyuncu_puan} - {bilgisayar_puan} Bilgisayar\")\n",
    "        \n",
    "        if oyuncu_puan == 2:\n",
    "            print(\"Tebrikler, oyunu kazandınız!\")\n",
    "        else:\n",
    "            print(\"Bilgisayar oyunu kazandı!\")\n",
    "\n",
    "    while True:\n",
    "        turu_oyna()\n",
    "        \n",
    "        devam = input(\"Başka bir oyun oynamak ister misiniz? (evet/hayır): \").lower()\n",
    "        if devam != \"evet\":\n",
    "            bilgisayar_devam = random.choice([\"evet\", \"hayır\"])\n",
    "            if bilgisayar_devam == \"hayır\":\n",
    "                print(\"Oyun sona erdi. Sayounara!\")\n",
    "                break\n",
    "            else:\n",
    "                print(\"Bilgisayar devam etmek istiyor. Yeni oyuna başlıyoruz!\")\n",
    "\n",
    "tas_kagit_makas_ECE_ERTEN()\n",
    "\n",
    "#Taş yerine Muzan; Kağıt yerine Sun; Makas yerine Nezuko karakterleri kullanılmıştır."
   ]
  },
  {
   "cell_type": "code",
   "execution_count": null,
   "id": "0787c27e-0e26-445f-99e6-e23dc54c3601",
   "metadata": {},
   "outputs": [],
   "source": []
  }
 ],
 "metadata": {
  "kernelspec": {
   "display_name": "Python 3 (ipykernel)",
   "language": "python",
   "name": "python3"
  },
  "language_info": {
   "codemirror_mode": {
    "name": "ipython",
    "version": 3
   },
   "file_extension": ".py",
   "mimetype": "text/x-python",
   "name": "python",
   "nbconvert_exporter": "python",
   "pygments_lexer": "ipython3",
   "version": "3.12.4"
  }
 },
 "nbformat": 4,
 "nbformat_minor": 5
}
